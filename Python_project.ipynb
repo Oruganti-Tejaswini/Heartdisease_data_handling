{
 "cells": [
  {
   "cell_type": "markdown",
   "id": "0cac259b",
   "metadata": {},
   "source": [
    "# About Project"
   ]
  },
  {
   "cell_type": "markdown",
   "id": "89f99421",
   "metadata": {},
   "source": [
    "## Deciding whether the person is effected to heart disease or not"
   ]
  },
  {
   "cell_type": "markdown",
   "id": "5d4426a3",
   "metadata": {},
   "source": [
    " ### The data set contains 14 features with 303 patient samples <br> <br>All these features may or may not be directly correlated to the target value (has heart disease or not). <br><br> So extracted features using feature selection using Mutual Information) <br><br> Creatied a model metrics compared with no feature selection and with feature selection."
   ]
  },
  {
   "cell_type": "markdown",
   "id": "f899be99",
   "metadata": {},
   "source": [
    "# Input File"
   ]
  },
  {
   "cell_type": "code",
   "execution_count": 25,
   "id": "1df8b009",
   "metadata": {},
   "outputs": [],
   "source": [
    "#csv file name\n",
    "\n",
    "name=\"heart disease classification dataset.csv\""
   ]
  },
  {
   "cell_type": "markdown",
   "id": "99c24156",
   "metadata": {},
   "source": [
    "# Libraries"
   ]
  },
  {
   "cell_type": "code",
   "execution_count": 26,
   "id": "96136611",
   "metadata": {},
   "outputs": [],
   "source": [
    "import csv\n",
    "import pandas as pd\n",
    "import re\n",
    "import sqlite3\n",
    "from sklearn import neighbors\n",
    "from sklearn import datasets\n",
    "from sklearn.model_selection import train_test_split\n",
    "from sklearn import metrics\n",
    "from sklearn.naive_bayes import GaussianNB\n",
    "from sklearn.naive_bayes import MultinomialNB\n",
    "from sklearn.naive_bayes import BernoulliNB\n",
    "from sklearn import svm\n",
    "from sklearn.ensemble import BaggingClassifier\n",
    "from sklearn.ensemble import GradientBoostingClassifier\n",
    "from sklearn.feature_selection import mutual_info_classif as MIC\n",
    "from sklearn.metrics import accuracy_score, f1_score, precision_score, recall_score\n",
    "import random\n",
    "import time\n",
    "import numpy as np\n",
    "import matplotlib.pyplot as plt\n",
    "import seaborn as sns\n",
    "%matplotlib inline\n",
    "np.random.seed(1234)\n",
    "start=time.time()"
   ]
  },
  {
   "cell_type": "markdown",
   "id": "2656324d",
   "metadata": {},
   "source": [
    "# Processing the CSV file extracting Header and rows"
   ]
  },
  {
   "cell_type": "code",
   "execution_count": 27,
   "id": "00fc8f8f",
   "metadata": {},
   "outputs": [],
   "source": [
    "\n",
    "class process_file:   # Preprocess the data by reading the csv file.\n",
    "    \n",
    "    def __init__(self,file_name,delimiter,header,first_omit):\n",
    "        print(file_name)\n",
    "        self.file_name=file_name\n",
    "        self.delimiter=delimiter\n",
    "        self.header=header\n",
    "        self.first_omit=first_omit\n",
    "        \n",
    "    def read_file(self):   # extracting the header and the rows from the csv.\n",
    "        print(\"Reading the CSV File...\")\n",
    "        self.rows=[]\n",
    "        with open(self.file_name) as file:\n",
    "            if self.delimiter==None:\n",
    "                content=csv.reader(file)\n",
    "            else:\n",
    "                content=csv.reader(file,delimiter=self.delimiter)\n",
    "            if self.header==True and self.first_omit==True:\n",
    "                self.header = next(content)\n",
    "                self.header=self.header[1:]\n",
    "                [self.rows.append(i[1:]) for i in (content)]\n",
    "            else:\n",
    "                self.header = next(content)\n",
    "                [self.rows.append(i) for i in (content)]\n",
    "            \n",
    "            table_data=self.data_type()\n",
    "        return table_data\n",
    "            \n",
    "    def data_type(self):    # Getting the data type of the header.\n",
    "        print(\"Getting data type of the features by taking header...\")\n",
    "        first_row=self.rows[0]\n",
    "        temp_dict=dict.fromkeys(self.header,0)\n",
    "        \n",
    "        for i in range(0,len(first_row)):\n",
    "            if (re.compile('[0-9]+\\.[0-9]+')).match(first_row[i]):\n",
    "                temp_dict[self.header[i]]=\"double\"\n",
    "                \n",
    "            elif (re.compile('^[0-9]+$')).match(first_row[i]):\n",
    "                temp_dict[self.header[i]]=\"Number\"\n",
    "        \n",
    "            else:\n",
    "                temp_dict[self.header[i]]=\"varchar\"\n",
    "                \n",
    "        self.table_head=temp_dict\n",
    "        \n",
    "        file_name=self.file_name.split(\"/\")[-1].split(\".\")[0]\n",
    "        create_preprocess_obj=Preprocess_data(self.table_head.values(),self.rows)\n",
    "        insert_rows_data=list(create_preprocess_obj)\n",
    "        normalize_tables(file_name,self.table_head,insert_rows_data)\n",
    "        "
   ]
  },
  {
   "cell_type": "markdown",
   "id": "5ccd3237",
   "metadata": {},
   "source": [
    "# Pre-process the data (Handling Missing values)"
   ]
  },
  {
   "cell_type": "code",
   "execution_count": 28,
   "id": "eb88c981",
   "metadata": {},
   "outputs": [],
   "source": [
    "class Preprocess_data():   # Preprocess the data ie.. inserting missing values in the rows.\n",
    "    \n",
    "    def __init__(self,values,rows):\n",
    "        print(\"Pre-process the data when no data present with respect to data types...\")\n",
    "        self.final_rows_list=[]\n",
    "        values=list(values)\n",
    "        for i in rows:\n",
    "            temp=\"\"\n",
    "            for j in range(0,len(values)):\n",
    "                if values[j]==\"varchar\":\n",
    "                    i[j]=\"\\\"\"+i[j]+\"\\\"\"\n",
    "                if i[j]==\"\":\n",
    "                    if values[j]==\"Number\":\n",
    "                        i[j]=\"0\"\n",
    "                    elif values[j]==\"double\":\n",
    "                        i[j]=\"0.0\"\n",
    "                    else:\n",
    "                        i[j]=\"null\"\n",
    "                temp+=i[j]+\",\"\n",
    "            self.final_rows_list.append(temp[0:len(temp)-1])\n",
    "        \n",
    "    def __iter__(self):  #return the list of the rows using iter.\n",
    "        \n",
    "        return iter(self.final_rows_list)\n",
    "    "
   ]
  },
  {
   "cell_type": "markdown",
   "id": "4c39f30c",
   "metadata": {},
   "source": [
    "# Create Database"
   ]
  },
  {
   "cell_type": "code",
   "execution_count": 29,
   "id": "66ac6efd",
   "metadata": {},
   "outputs": [],
   "source": [
    "class create_database:   # Creating the db, table and inserting the rows into db.\n",
    "    \n",
    "    def __init__(self,file_name):\n",
    "        print(\"Creating the data base.....\")\n",
    "        global conn,cur\n",
    "        file_name=file_name.replace(\" \",\"\")\n",
    "        column_names=\"(\"\n",
    "        conn=sqlite3.connect(file_name+\".db;\")\n",
    "        cur=conn.cursor()"
   ]
  },
  {
   "cell_type": "markdown",
   "id": "b99766b9",
   "metadata": {},
   "source": [
    "# Creating and Inserting Normalised tables"
   ]
  },
  {
   "cell_type": "code",
   "execution_count": 30,
   "id": "defb53e9",
   "metadata": {},
   "outputs": [],
   "source": [
    "class create_insert_data_table:        # Creating and inserting normalised tables.\n",
    "    \n",
    "    def __init__(self,col_name,col_data_type,rows):\n",
    "        print(\"Creating Normalised tables  \"+col_name)\n",
    "        dict_country={}\n",
    "        drop_table=\"drop table if exists \"+col_name+\";\"\n",
    "        conn.execute(drop_table)\n",
    "        conn.commit()\n",
    "        \n",
    "        create_table=\"create table if not exists \"+col_name+\"(\"+col_name+\"id integer Primary Key autoincrement,\"+col_name+\" \"+col_data_type+\" not null)\"\n",
    "        table=conn.execute(create_table)\n",
    "        conn.commit()\n",
    "        \n",
    "        insert_query=\"Insert or replace into \"+col_name+\" (\"+col_name+\") values \"\n",
    "        for i in rows:\n",
    "            insert_query+=\"(\"+i+\"),\"\n",
    "           \n",
    "        insert_query=insert_query[0:len(insert_query)-1]+\";\"\n",
    "        insert_rows=conn.execute(insert_query)\n",
    "        conn.commit()\n",
    "\n",
    "        sql_statement=\"select * from \"+col_name+\";\"\n",
    "        cur = conn.cursor()\n",
    "        cur.execute(sql_statement)\n",
    "\n",
    "        data = cur.fetchall()\n",
    "        for i in data:\n",
    "            dict_country[str(i[1])]=i[0]\n",
    "        df.append(dict_country)\n",
    "        "
   ]
  },
  {
   "cell_type": "markdown",
   "id": "bb6ffc44",
   "metadata": {},
   "source": [
    "# Heart Disease table creation and Insertion"
   ]
  },
  {
   "cell_type": "code",
   "execution_count": 31,
   "id": "f88f7b60",
   "metadata": {},
   "outputs": [],
   "source": [
    "class heart_disease:          # Final table\n",
    "    \n",
    "    def __init__(self,file_name,tables,table_head,rows_data):\n",
    "        print(\"Creating the Final table.....\")\n",
    "        global rows\n",
    "        table_name=file_name.replace(\" \",\"_\")\n",
    "        foreign_key=\"\"\n",
    "        column_names=\"\"\n",
    "        \n",
    "        drop_table=\"drop table if exists \"+table_name+\";\"\n",
    "        conn.execute(drop_table)\n",
    "        conn.commit()\n",
    "        \n",
    "        \n",
    "        create_table=\"create table if not exists \"+table_name+\"(\"\n",
    "        for i in table_head:\n",
    "            column_names+=i[0]+\",\"\n",
    "            create_table+=i[0]+\" \"+i[1]+\" not null,\"\n",
    "            if i[0] in tables:\n",
    "                foreign_key+=\"foreign key(\"+i[0]+\") references \"+ i[0]+\"(\"+i[0]+\"),\"\n",
    "                \n",
    "        create_table+=foreign_key[:len(foreign_key)-1]+\")\"\n",
    "        table=conn.execute(create_table)\n",
    "        conn.commit()\n",
    "       \n",
    "        print(\"Inserting Records into the table.....\")\n",
    "        column_names=column_names[0:len(column_names)-1]\n",
    "        insert_query=\"Insert into \"+table_name+\" (\"+column_names+\") values \"\n",
    "        final_data=[]\n",
    "        \n",
    "        for i in rows_data:\n",
    "            i=i.split(\",\")\n",
    "            data=\"\"\n",
    "            for j in range(0,len(i)):\n",
    "                if table_head[j][0] in tables:\n",
    "                    key=tables.index(table_head[j][0])\n",
    "                    key=df[key]\n",
    "                    value=i[j].replace(\"\\\"\",\"\")\n",
    "                    value=key[value]\n",
    "                else:\n",
    "                    value=i[j]\n",
    "                data+=str(value)+\",\"\n",
    "            final_data.append(data[:len(data)-1])\n",
    "            \n",
    "        for i in final_data:\n",
    "            insert_query+=\"(\"+i+\"),\"\n",
    "        insert_rows=conn.execute(insert_query[:len(insert_query)-1])\n",
    "        conn.commit()\n",
    "        \n",
    "        self.display_rows(table_name)\n",
    "        \n",
    "    def display_rows(self,table_name):   # Displaying the rows in the table and returning it.\n",
    "        print(\"Displaying the Data in the table....\\n\")\n",
    "        global rows\n",
    "        global row\n",
    "        sql_statement=\"select * from \"+table_name+\";\"\n",
    "        row = pd.read_sql_query(sql_statement, conn)\n",
    "        rows = pd.read_sql_query(sql_statement, conn)\n",
    "        m={'2':'male','1':'female'}\n",
    "        row['sex']=row['sex'].map(m)\n",
    "        "
   ]
  },
  {
   "cell_type": "markdown",
   "id": "5db7ba23",
   "metadata": {},
   "source": [
    "# Normalize tables Identifying and creating normalised and Heart disease table"
   ]
  },
  {
   "cell_type": "code",
   "execution_count": 32,
   "id": "e511558e",
   "metadata": {},
   "outputs": [],
   "source": [
    "class normalize_tables(process_file):\n",
    "    def __init__(self,file_name,table_head,rows_data):\n",
    "        print(\"Extracting the columns to create Normalise Tables....\")\n",
    "        global tables\n",
    "        create_database(\"heart disease classification dataset\")\n",
    "        tables=[]\n",
    "        n=(len(table_head))\n",
    "        table_head=list(table_head.items())\n",
    "        col_data=[]\n",
    "        global df\n",
    "        df=[]\n",
    "        \n",
    "        print(\"Checking and creating the Normalised tables...\")\n",
    "        for j in range(0,n-1):\n",
    "            for i in rows_data:\n",
    "                col_data.append(i.split(\",\")[j])\n",
    "            col_data=sorted(set(col_data))\n",
    "            if len(col_data)<5:\n",
    "                tables.append(table_head[j][0])\n",
    "                create_insert_data_table(table_head[j][0],table_head[j][1],col_data)\n",
    "            col_data=[]\n",
    "            \n",
    "        heart_disease(\"Heart_disease_classification_dataset\",tables,table_head,rows_data)"
   ]
  },
  {
   "cell_type": "code",
   "execution_count": 33,
   "id": "252468b8",
   "metadata": {},
   "outputs": [
    {
     "name": "stdout",
     "output_type": "stream",
     "text": [
      "heart disease classification dataset.csv\n",
      "Reading the CSV File...\n",
      "Getting data type of the features by taking header...\n",
      "Pre-process the data when no data present with respect to data types...\n",
      "Extracting the columns to create Normalise Tables....\n",
      "Creating the data base.....\n",
      "Checking and creating the Normalised tables...\n",
      "Creating Normalised tables  sex\n",
      "Creating Normalised tables  cp\n",
      "Creating Normalised tables  fbs\n",
      "Creating Normalised tables  restecg\n",
      "Creating Normalised tables  exang\n",
      "Creating Normalised tables  slope\n",
      "Creating Normalised tables  thal\n",
      "Creating the Final table.....\n",
      "Inserting Records into the table.....\n",
      "Displaying the Data in the table....\n",
      "\n"
     ]
    }
   ],
   "source": [
    "process_file_obj=process_file(name,None,True,True)\n",
    "data_retrieve=process_file_obj.read_file()"
   ]
  },
  {
   "cell_type": "markdown",
   "id": "961105df",
   "metadata": {},
   "source": [
    "# Information Related to Data"
   ]
  },
  {
   "cell_type": "code",
   "execution_count": 34,
   "id": "a580088c",
   "metadata": {},
   "outputs": [
    {
     "data": {
      "text/html": [
       "<div>\n",
       "<style scoped>\n",
       "    .dataframe tbody tr th:only-of-type {\n",
       "        vertical-align: middle;\n",
       "    }\n",
       "\n",
       "    .dataframe tbody tr th {\n",
       "        vertical-align: top;\n",
       "    }\n",
       "\n",
       "    .dataframe thead th {\n",
       "        text-align: right;\n",
       "    }\n",
       "</style>\n",
       "<table border=\"1\" class=\"dataframe\">\n",
       "  <thead>\n",
       "    <tr style=\"text-align: right;\">\n",
       "      <th></th>\n",
       "      <th>sexid</th>\n",
       "      <th>sex</th>\n",
       "    </tr>\n",
       "  </thead>\n",
       "  <tbody>\n",
       "    <tr>\n",
       "      <th>0</th>\n",
       "      <td>1</td>\n",
       "      <td>female</td>\n",
       "    </tr>\n",
       "    <tr>\n",
       "      <th>1</th>\n",
       "      <td>2</td>\n",
       "      <td>male</td>\n",
       "    </tr>\n",
       "  </tbody>\n",
       "</table>\n",
       "</div>"
      ],
      "text/plain": [
       "   sexid     sex\n",
       "0      1  female\n",
       "1      2    male"
      ]
     },
     "metadata": {},
     "output_type": "display_data"
    }
   ],
   "source": [
    "#Sample Normalised table\n",
    "\n",
    "sql_statement=\"select * from sex;\"\n",
    "data = pd.read_sql_query(sql_statement, conn)\n",
    "display(data)"
   ]
  },
  {
   "cell_type": "code",
   "execution_count": 35,
   "id": "0b66fcc3",
   "metadata": {},
   "outputs": [
    {
     "data": {
      "text/html": [
       "<div>\n",
       "<style scoped>\n",
       "    .dataframe tbody tr th:only-of-type {\n",
       "        vertical-align: middle;\n",
       "    }\n",
       "\n",
       "    .dataframe tbody tr th {\n",
       "        vertical-align: top;\n",
       "    }\n",
       "\n",
       "    .dataframe thead th {\n",
       "        text-align: right;\n",
       "    }\n",
       "</style>\n",
       "<table border=\"1\" class=\"dataframe\">\n",
       "  <thead>\n",
       "    <tr style=\"text-align: right;\">\n",
       "      <th></th>\n",
       "      <th>age</th>\n",
       "      <th>sex</th>\n",
       "      <th>cp</th>\n",
       "      <th>trestbps</th>\n",
       "      <th>chol</th>\n",
       "      <th>fbs</th>\n",
       "      <th>restecg</th>\n",
       "      <th>thalach</th>\n",
       "      <th>exang</th>\n",
       "      <th>oldpeak</th>\n",
       "      <th>slope</th>\n",
       "      <th>ca</th>\n",
       "      <th>thal</th>\n",
       "      <th>target</th>\n",
       "    </tr>\n",
       "  </thead>\n",
       "  <tbody>\n",
       "    <tr>\n",
       "      <th>0</th>\n",
       "      <td>63</td>\n",
       "      <td>2</td>\n",
       "      <td>4</td>\n",
       "      <td>145</td>\n",
       "      <td>233</td>\n",
       "      <td>2</td>\n",
       "      <td>1</td>\n",
       "      <td>150</td>\n",
       "      <td>1</td>\n",
       "      <td>2.3</td>\n",
       "      <td>1</td>\n",
       "      <td>0</td>\n",
       "      <td>2</td>\n",
       "      <td>yes</td>\n",
       "    </tr>\n",
       "    <tr>\n",
       "      <th>1</th>\n",
       "      <td>37</td>\n",
       "      <td>2</td>\n",
       "      <td>3</td>\n",
       "      <td>130</td>\n",
       "      <td>250</td>\n",
       "      <td>1</td>\n",
       "      <td>2</td>\n",
       "      <td>187</td>\n",
       "      <td>1</td>\n",
       "      <td>3.5</td>\n",
       "      <td>1</td>\n",
       "      <td>0</td>\n",
       "      <td>3</td>\n",
       "      <td>yes</td>\n",
       "    </tr>\n",
       "    <tr>\n",
       "      <th>2</th>\n",
       "      <td>41</td>\n",
       "      <td>1</td>\n",
       "      <td>2</td>\n",
       "      <td>130</td>\n",
       "      <td>204</td>\n",
       "      <td>1</td>\n",
       "      <td>1</td>\n",
       "      <td>172</td>\n",
       "      <td>1</td>\n",
       "      <td>1.4</td>\n",
       "      <td>3</td>\n",
       "      <td>0</td>\n",
       "      <td>3</td>\n",
       "      <td>yes</td>\n",
       "    </tr>\n",
       "    <tr>\n",
       "      <th>3</th>\n",
       "      <td>56</td>\n",
       "      <td>2</td>\n",
       "      <td>2</td>\n",
       "      <td>120</td>\n",
       "      <td>236</td>\n",
       "      <td>1</td>\n",
       "      <td>2</td>\n",
       "      <td>178</td>\n",
       "      <td>1</td>\n",
       "      <td>0.8</td>\n",
       "      <td>3</td>\n",
       "      <td>0</td>\n",
       "      <td>3</td>\n",
       "      <td>yes</td>\n",
       "    </tr>\n",
       "    <tr>\n",
       "      <th>4</th>\n",
       "      <td>57</td>\n",
       "      <td>1</td>\n",
       "      <td>1</td>\n",
       "      <td>0</td>\n",
       "      <td>354</td>\n",
       "      <td>1</td>\n",
       "      <td>2</td>\n",
       "      <td>163</td>\n",
       "      <td>2</td>\n",
       "      <td>0.6</td>\n",
       "      <td>3</td>\n",
       "      <td>0</td>\n",
       "      <td>3</td>\n",
       "      <td>yes</td>\n",
       "    </tr>\n",
       "    <tr>\n",
       "      <th>...</th>\n",
       "      <td>...</td>\n",
       "      <td>...</td>\n",
       "      <td>...</td>\n",
       "      <td>...</td>\n",
       "      <td>...</td>\n",
       "      <td>...</td>\n",
       "      <td>...</td>\n",
       "      <td>...</td>\n",
       "      <td>...</td>\n",
       "      <td>...</td>\n",
       "      <td>...</td>\n",
       "      <td>...</td>\n",
       "      <td>...</td>\n",
       "      <td>...</td>\n",
       "    </tr>\n",
       "    <tr>\n",
       "      <th>298</th>\n",
       "      <td>57</td>\n",
       "      <td>1</td>\n",
       "      <td>1</td>\n",
       "      <td>140</td>\n",
       "      <td>241</td>\n",
       "      <td>1</td>\n",
       "      <td>2</td>\n",
       "      <td>123</td>\n",
       "      <td>2</td>\n",
       "      <td>0.2</td>\n",
       "      <td>2</td>\n",
       "      <td>0</td>\n",
       "      <td>4</td>\n",
       "      <td>no</td>\n",
       "    </tr>\n",
       "    <tr>\n",
       "      <th>299</th>\n",
       "      <td>45</td>\n",
       "      <td>2</td>\n",
       "      <td>4</td>\n",
       "      <td>110</td>\n",
       "      <td>264</td>\n",
       "      <td>1</td>\n",
       "      <td>2</td>\n",
       "      <td>132</td>\n",
       "      <td>1</td>\n",
       "      <td>1.2</td>\n",
       "      <td>2</td>\n",
       "      <td>0</td>\n",
       "      <td>4</td>\n",
       "      <td>no</td>\n",
       "    </tr>\n",
       "    <tr>\n",
       "      <th>300</th>\n",
       "      <td>68</td>\n",
       "      <td>2</td>\n",
       "      <td>1</td>\n",
       "      <td>144</td>\n",
       "      <td>193</td>\n",
       "      <td>2</td>\n",
       "      <td>2</td>\n",
       "      <td>141</td>\n",
       "      <td>1</td>\n",
       "      <td>3.4</td>\n",
       "      <td>2</td>\n",
       "      <td>2</td>\n",
       "      <td>4</td>\n",
       "      <td>no</td>\n",
       "    </tr>\n",
       "    <tr>\n",
       "      <th>301</th>\n",
       "      <td>57</td>\n",
       "      <td>2</td>\n",
       "      <td>1</td>\n",
       "      <td>0</td>\n",
       "      <td>131</td>\n",
       "      <td>1</td>\n",
       "      <td>2</td>\n",
       "      <td>115</td>\n",
       "      <td>2</td>\n",
       "      <td>1.2</td>\n",
       "      <td>2</td>\n",
       "      <td>1</td>\n",
       "      <td>4</td>\n",
       "      <td>no</td>\n",
       "    </tr>\n",
       "    <tr>\n",
       "      <th>302</th>\n",
       "      <td>57</td>\n",
       "      <td>1</td>\n",
       "      <td>2</td>\n",
       "      <td>130</td>\n",
       "      <td>236</td>\n",
       "      <td>1</td>\n",
       "      <td>1</td>\n",
       "      <td>174</td>\n",
       "      <td>1</td>\n",
       "      <td>0.0</td>\n",
       "      <td>2</td>\n",
       "      <td>1</td>\n",
       "      <td>3</td>\n",
       "      <td>no</td>\n",
       "    </tr>\n",
       "  </tbody>\n",
       "</table>\n",
       "<p>303 rows × 14 columns</p>\n",
       "</div>"
      ],
      "text/plain": [
       "     age sex  cp  trestbps  chol  fbs  restecg  thalach  exang  oldpeak  \\\n",
       "0     63   2   4       145   233    2        1      150      1      2.3   \n",
       "1     37   2   3       130   250    1        2      187      1      3.5   \n",
       "2     41   1   2       130   204    1        1      172      1      1.4   \n",
       "3     56   2   2       120   236    1        2      178      1      0.8   \n",
       "4     57   1   1         0   354    1        2      163      2      0.6   \n",
       "..   ...  ..  ..       ...   ...  ...      ...      ...    ...      ...   \n",
       "298   57   1   1       140   241    1        2      123      2      0.2   \n",
       "299   45   2   4       110   264    1        2      132      1      1.2   \n",
       "300   68   2   1       144   193    2        2      141      1      3.4   \n",
       "301   57   2   1         0   131    1        2      115      2      1.2   \n",
       "302   57   1   2       130   236    1        1      174      1      0.0   \n",
       "\n",
       "     slope  ca  thal target  \n",
       "0        1   0     2    yes  \n",
       "1        1   0     3    yes  \n",
       "2        3   0     3    yes  \n",
       "3        3   0     3    yes  \n",
       "4        3   0     3    yes  \n",
       "..     ...  ..   ...    ...  \n",
       "298      2   0     4     no  \n",
       "299      2   0     4     no  \n",
       "300      2   2     4     no  \n",
       "301      2   1     4     no  \n",
       "302      2   1     3     no  \n",
       "\n",
       "[303 rows x 14 columns]"
      ]
     },
     "metadata": {},
     "output_type": "display_data"
    }
   ],
   "source": [
    "#displaying Heart_disease_table\n",
    "\n",
    "display(rows)"
   ]
  },
  {
   "cell_type": "code",
   "execution_count": 36,
   "id": "917ebf6e",
   "metadata": {},
   "outputs": [
    {
     "name": "stdout",
     "output_type": "stream",
     "text": [
      "<class 'pandas.core.frame.DataFrame'>\n",
      "RangeIndex: 303 entries, 0 to 302\n",
      "Data columns (total 14 columns):\n",
      " #   Column    Non-Null Count  Dtype  \n",
      "---  ------    --------------  -----  \n",
      " 0   age       303 non-null    int64  \n",
      " 1   sex       303 non-null    object \n",
      " 2   cp        303 non-null    int64  \n",
      " 3   trestbps  303 non-null    int64  \n",
      " 4   chol      303 non-null    int64  \n",
      " 5   fbs       303 non-null    int64  \n",
      " 6   restecg   303 non-null    int64  \n",
      " 7   thalach   303 non-null    int64  \n",
      " 8   exang     303 non-null    int64  \n",
      " 9   oldpeak   303 non-null    float64\n",
      " 10  slope     303 non-null    int64  \n",
      " 11  ca        303 non-null    int64  \n",
      " 12  thal      303 non-null    int64  \n",
      " 13  target    303 non-null    object \n",
      "dtypes: float64(1), int64(11), object(2)\n",
      "memory usage: 33.3+ KB\n"
     ]
    },
    {
     "data": {
      "text/plain": [
       "None"
      ]
     },
     "metadata": {},
     "output_type": "display_data"
    }
   ],
   "source": [
    "display(rows.info())"
   ]
  },
  {
   "cell_type": "code",
   "execution_count": 37,
   "id": "cf59736a",
   "metadata": {},
   "outputs": [
    {
     "data": {
      "text/html": [
       "<div>\n",
       "<style scoped>\n",
       "    .dataframe tbody tr th:only-of-type {\n",
       "        vertical-align: middle;\n",
       "    }\n",
       "\n",
       "    .dataframe tbody tr th {\n",
       "        vertical-align: top;\n",
       "    }\n",
       "\n",
       "    .dataframe thead th {\n",
       "        text-align: right;\n",
       "    }\n",
       "</style>\n",
       "<table border=\"1\" class=\"dataframe\">\n",
       "  <thead>\n",
       "    <tr style=\"text-align: right;\">\n",
       "      <th></th>\n",
       "      <th>age</th>\n",
       "      <th>cp</th>\n",
       "      <th>trestbps</th>\n",
       "      <th>chol</th>\n",
       "      <th>fbs</th>\n",
       "      <th>restecg</th>\n",
       "      <th>thalach</th>\n",
       "      <th>exang</th>\n",
       "      <th>oldpeak</th>\n",
       "      <th>slope</th>\n",
       "      <th>ca</th>\n",
       "      <th>thal</th>\n",
       "    </tr>\n",
       "  </thead>\n",
       "  <tbody>\n",
       "    <tr>\n",
       "      <th>count</th>\n",
       "      <td>303.000000</td>\n",
       "      <td>303.000000</td>\n",
       "      <td>303.000000</td>\n",
       "      <td>303.000000</td>\n",
       "      <td>303.000000</td>\n",
       "      <td>303.000000</td>\n",
       "      <td>303.000000</td>\n",
       "      <td>303.000000</td>\n",
       "      <td>303.000000</td>\n",
       "      <td>303.000000</td>\n",
       "      <td>303.000000</td>\n",
       "      <td>303.000000</td>\n",
       "    </tr>\n",
       "    <tr>\n",
       "      <th>mean</th>\n",
       "      <td>54.366337</td>\n",
       "      <td>1.966997</td>\n",
       "      <td>129.973597</td>\n",
       "      <td>245.504950</td>\n",
       "      <td>1.148515</td>\n",
       "      <td>1.528053</td>\n",
       "      <td>147.392739</td>\n",
       "      <td>1.326733</td>\n",
       "      <td>1.039604</td>\n",
       "      <td>2.399340</td>\n",
       "      <td>0.729373</td>\n",
       "      <td>3.313531</td>\n",
       "    </tr>\n",
       "    <tr>\n",
       "      <th>std</th>\n",
       "      <td>9.082101</td>\n",
       "      <td>1.032052</td>\n",
       "      <td>23.095668</td>\n",
       "      <td>53.719524</td>\n",
       "      <td>0.356198</td>\n",
       "      <td>0.525860</td>\n",
       "      <td>29.434756</td>\n",
       "      <td>0.469794</td>\n",
       "      <td>1.161075</td>\n",
       "      <td>0.616226</td>\n",
       "      <td>1.022606</td>\n",
       "      <td>0.612277</td>\n",
       "    </tr>\n",
       "    <tr>\n",
       "      <th>min</th>\n",
       "      <td>29.000000</td>\n",
       "      <td>1.000000</td>\n",
       "      <td>0.000000</td>\n",
       "      <td>0.000000</td>\n",
       "      <td>1.000000</td>\n",
       "      <td>1.000000</td>\n",
       "      <td>0.000000</td>\n",
       "      <td>1.000000</td>\n",
       "      <td>0.000000</td>\n",
       "      <td>1.000000</td>\n",
       "      <td>0.000000</td>\n",
       "      <td>1.000000</td>\n",
       "    </tr>\n",
       "    <tr>\n",
       "      <th>25%</th>\n",
       "      <td>47.500000</td>\n",
       "      <td>1.000000</td>\n",
       "      <td>120.000000</td>\n",
       "      <td>211.000000</td>\n",
       "      <td>1.000000</td>\n",
       "      <td>1.000000</td>\n",
       "      <td>132.000000</td>\n",
       "      <td>1.000000</td>\n",
       "      <td>0.000000</td>\n",
       "      <td>2.000000</td>\n",
       "      <td>0.000000</td>\n",
       "      <td>3.000000</td>\n",
       "    </tr>\n",
       "    <tr>\n",
       "      <th>50%</th>\n",
       "      <td>55.000000</td>\n",
       "      <td>2.000000</td>\n",
       "      <td>130.000000</td>\n",
       "      <td>240.000000</td>\n",
       "      <td>1.000000</td>\n",
       "      <td>2.000000</td>\n",
       "      <td>152.000000</td>\n",
       "      <td>1.000000</td>\n",
       "      <td>0.800000</td>\n",
       "      <td>2.000000</td>\n",
       "      <td>0.000000</td>\n",
       "      <td>3.000000</td>\n",
       "    </tr>\n",
       "    <tr>\n",
       "      <th>75%</th>\n",
       "      <td>61.000000</td>\n",
       "      <td>3.000000</td>\n",
       "      <td>140.000000</td>\n",
       "      <td>274.500000</td>\n",
       "      <td>1.000000</td>\n",
       "      <td>2.000000</td>\n",
       "      <td>166.000000</td>\n",
       "      <td>2.000000</td>\n",
       "      <td>1.600000</td>\n",
       "      <td>3.000000</td>\n",
       "      <td>1.000000</td>\n",
       "      <td>4.000000</td>\n",
       "    </tr>\n",
       "    <tr>\n",
       "      <th>max</th>\n",
       "      <td>77.000000</td>\n",
       "      <td>4.000000</td>\n",
       "      <td>200.000000</td>\n",
       "      <td>564.000000</td>\n",
       "      <td>2.000000</td>\n",
       "      <td>3.000000</td>\n",
       "      <td>202.000000</td>\n",
       "      <td>2.000000</td>\n",
       "      <td>6.200000</td>\n",
       "      <td>3.000000</td>\n",
       "      <td>4.000000</td>\n",
       "      <td>4.000000</td>\n",
       "    </tr>\n",
       "  </tbody>\n",
       "</table>\n",
       "</div>"
      ],
      "text/plain": [
       "              age          cp    trestbps        chol         fbs     restecg  \\\n",
       "count  303.000000  303.000000  303.000000  303.000000  303.000000  303.000000   \n",
       "mean    54.366337    1.966997  129.973597  245.504950    1.148515    1.528053   \n",
       "std      9.082101    1.032052   23.095668   53.719524    0.356198    0.525860   \n",
       "min     29.000000    1.000000    0.000000    0.000000    1.000000    1.000000   \n",
       "25%     47.500000    1.000000  120.000000  211.000000    1.000000    1.000000   \n",
       "50%     55.000000    2.000000  130.000000  240.000000    1.000000    2.000000   \n",
       "75%     61.000000    3.000000  140.000000  274.500000    1.000000    2.000000   \n",
       "max     77.000000    4.000000  200.000000  564.000000    2.000000    3.000000   \n",
       "\n",
       "          thalach       exang     oldpeak       slope          ca        thal  \n",
       "count  303.000000  303.000000  303.000000  303.000000  303.000000  303.000000  \n",
       "mean   147.392739    1.326733    1.039604    2.399340    0.729373    3.313531  \n",
       "std     29.434756    0.469794    1.161075    0.616226    1.022606    0.612277  \n",
       "min      0.000000    1.000000    0.000000    1.000000    0.000000    1.000000  \n",
       "25%    132.000000    1.000000    0.000000    2.000000    0.000000    3.000000  \n",
       "50%    152.000000    1.000000    0.800000    2.000000    0.000000    3.000000  \n",
       "75%    166.000000    2.000000    1.600000    3.000000    1.000000    4.000000  \n",
       "max    202.000000    2.000000    6.200000    3.000000    4.000000    4.000000  "
      ]
     },
     "execution_count": 37,
     "metadata": {},
     "output_type": "execute_result"
    }
   ],
   "source": [
    "rows.describe()"
   ]
  },
  {
   "cell_type": "markdown",
   "id": "e6eaec3e",
   "metadata": {},
   "source": [
    "# Visualization"
   ]
  },
  {
   "cell_type": "code",
   "execution_count": 38,
   "id": "a34f1de4",
   "metadata": {},
   "outputs": [
    {
     "name": "stderr",
     "output_type": "stream",
     "text": [
      "/Users/tejaswinioruganti/opt/anaconda3/lib/python3.9/site-packages/seaborn/_decorators.py:36: FutureWarning: Pass the following variable as a keyword arg: x. From version 0.12, the only valid positional argument will be `data`, and passing other arguments without an explicit keyword will result in an error or misinterpretation.\n",
      "  warnings.warn(\n"
     ]
    },
    {
     "data": {
      "text/plain": [
       "<AxesSubplot:xlabel='target', ylabel='count'>"
      ]
     },
     "execution_count": 38,
     "metadata": {},
     "output_type": "execute_result"
    },
    {
     "data": {
      "image/png": "[encoded data removed]",
      "text/plain": [
       "<Figure size 432x288 with 1 Axes>"
      ]
     },
     "metadata": {
      "needs_background": "light"
     },
     "output_type": "display_data"
    }
   ],
   "source": [
    "sns.countplot(\"target\",data=rows)"
   ]
  },
  {
   "cell_type": "code",
   "execution_count": 39,
   "id": "0219e675",
   "metadata": {},
   "outputs": [
    {
     "data": {
      "image/png": "[encoded data removed]",
      "text/plain": [
       "<Figure size 432x288 with 1 Axes>"
      ]
     },
     "metadata": {
      "needs_background": "light"
     },
     "output_type": "display_data"
    }
   ],
   "source": [
    "#comparing cp with restecg.\n",
    "#Comparing the cp with restecg by grouping cp.\n",
    "\n",
    "stmt=\"SELECT cp, count(restecg) count FROM heart_disease_classification_dataset Group By cp\"\n",
    "data=pd.read_sql_query(stmt,conn)\n",
    "data.plot(x ='cp', y='count', kind = 'line')\n",
    "plt.show()"
   ]
  },
  {
   "cell_type": "code",
   "execution_count": 40,
   "id": "53a36225",
   "metadata": {},
   "outputs": [
    {
     "data": {
      "text/plain": [
       "<AxesSubplot:xlabel='sex'>"
      ]
     },
     "execution_count": 40,
     "metadata": {},
     "output_type": "execute_result"
    },
    {
     "data": {
      "image/png": "[encoded data removed]",
      "text/plain": [
       "<Figure size 432x288 with 1 Axes>"
      ]
     },
     "metadata": {
      "needs_background": "light"
     },
     "output_type": "display_data"
    }
   ],
   "source": [
    "# Comparing the target value feature among the Male and Female.\n",
    "\n",
    "stmt=\"SELECT  (sex) , count(target) target  FROM heart_disease_classification_dataset Group By sex\"\n",
    "data=pd.read_sql_query(stmt,conn)\n",
    "data.plot(x=\"sex\", y=[\"target\"], kind=\"bar\")\n"
   ]
  },
  {
   "cell_type": "code",
   "execution_count": 41,
   "id": "73975463",
   "metadata": {},
   "outputs": [
    {
     "data": {
      "text/plain": [
       "<AxesSubplot:xlabel='age', ylabel='[chol]'>"
      ]
     },
     "execution_count": 41,
     "metadata": {},
     "output_type": "execute_result"
    },
    {
     "data": {
      "image/png": "[encoded data removed]",
      "text/plain": [
       "<Figure size 432x288 with 1 Axes>"
      ]
     },
     "metadata": {
      "needs_background": "light"
     },
     "output_type": "display_data"
    }
   ],
   "source": [
    "# Scatter plot representing the levels of cholestrol for each of the ages.\n",
    "\n",
    "stmt=\"SELECT age, chol FROM heart_disease_classification_dataset \"\n",
    "data=pd.read_sql_query(stmt,conn)\n",
    "data.plot(x=\"age\", y=[\"chol\"], kind=\"scatter\")"
   ]
  },
  {
   "cell_type": "code",
   "execution_count": 42,
   "id": "0b307621",
   "metadata": {},
   "outputs": [
    {
     "data": {
      "text/plain": [
       "<AxesSubplot:xlabel='target'>"
      ]
     },
     "execution_count": 42,
     "metadata": {},
     "output_type": "execute_result"
    },
    {
     "data": {
      "image/png": "[encoded data removed]",
      "text/plain": [
       "<Figure size 432x288 with 1 Axes>"
      ]
     },
     "metadata": {
      "needs_background": "light"
     },
     "output_type": "display_data"
    }
   ],
   "source": [
    "# Bar graph representing the the count of people who are affected by thal and heart disease.\n",
    "\n",
    "stmt=\"SELECT target, count(thal) thal FROM heart_disease_classification_dataset group by target\"\n",
    "data=pd.read_sql_query(stmt,conn)\n",
    "data.plot(x=\"target\", y=[\"thal\"], kind=\"bar\")"
   ]
  },
  {
   "cell_type": "code",
   "execution_count": 43,
   "id": "637c8e0d",
   "metadata": {},
   "outputs": [
    {
     "data": {
      "image/png": "[encoded data removed]",
      "text/plain": [
       "<Figure size 1080x576 with 2 Axes>"
      ]
     },
     "metadata": {
      "needs_background": "light"
     },
     "output_type": "display_data"
    }
   ],
   "source": [
    "# Correlation graph\n",
    "\n",
    "corr = rows.corr()\n",
    "fig, ax = plt.subplots(figsize=(15, 8))\n",
    "dropSelf = np.zeros_like(corr)\n",
    "dropSelf[np.triu_indices_from(dropSelf)] = True\n",
    "sns.heatmap(corr, linewidths=.5, annot=True, fmt=\".2f\", mask=dropSelf)\n",
    "plt.show()"
   ]
  },
  {
   "cell_type": "markdown",
   "id": "e954e33e",
   "metadata": {},
   "source": [
    "### From the above correlation graph, we can easily understand that exang,chol,ca,thal,oldpeak and cp  are important because of high correlation that means have dependencies over another"
   ]
  },
  {
   "cell_type": "markdown",
   "id": "3948017e",
   "metadata": {},
   "source": [
    "# Machine Learning Techniques"
   ]
  },
  {
   "cell_type": "code",
   "execution_count": 44,
   "id": "a0aee470",
   "metadata": {},
   "outputs": [],
   "source": [
    "class algo:\n",
    "    \n",
    "    def __init__(self,val,x,y):\n",
    "        print(\"\\n Machine Learning Algorithms Implementations.....\")\n",
    "        self.val=val\n",
    "        self.x_train,self.x_test,self.y_train,self.y_test = train_test_split(x, y, test_size=0.20)\n",
    "        self.knn()\n",
    "        self.nb()\n",
    "        self.svm()\n",
    "        self.bag()\n",
    "        self.boost()\n",
    "        self.graph()\n",
    "        \n",
    "    def Metric_Calculation(self,predicted,expected):\n",
    "        \n",
    "        a=metrics.accuracy_score(expected,predicted,normalize=True,sample_weight=None)\n",
    "        acc.append(a*100)\n",
    "        \n",
    "        precision = precision_score(expected,predicted,average='weighted')\n",
    "        pre.append(precision*100)\n",
    "        \n",
    "        recall = recall_score(expected, predicted, average='weighted')\n",
    "        re.append(recall*100)\n",
    "     \n",
    "        f1 = f1_score(expected, predicted, average='weighted')\n",
    "        f.append(f1*100)\n",
    "\n",
    "        print(\"Accuracy: \"+str(a*100))\n",
    "        print(\"precision: \"+str(precision*100))\n",
    "        print(\"Recall: \"+str(recall*100))\n",
    "        print(\"F1: \"+str(f1*100))   \n",
    "     \n",
    "    # Implementation of KNN algorithm\n",
    "    def knn(self):\n",
    "\n",
    "        print(\"\\n------   \"+self.val+\" KNN   -----\\n\")\n",
    "        knn=neighbors.KNeighborsClassifier()\n",
    "        knn.fit(self.x_train,self.y_train)\n",
    "        predicted=knn.predict(self.x_test)\n",
    "        expected=self.y_test\n",
    "        self.Metric_Calculation(predicted,expected)\n",
    "        \n",
    "        \n",
    "    # Implementation of Naive Bayes algorithm    \n",
    "    def nb(self):\n",
    "        print(\"\\n------   \"+self.val+\" Naive Bayesian   -----\\n\")\n",
    "        classifier = GaussianNB()\n",
    "        classifier.fit(self.x_train,self.y_train)\n",
    "        predicted =classifier.predict(self.x_test)\n",
    "        #print(predicted)\n",
    "        expected=self.y_test\n",
    "        self.Metric_Calculation(predicted,expected)\n",
    "    \n",
    "    # Implementation of SVM algorithm\n",
    "    def svm(self):\n",
    "        print(\"\\n-----   \"+self.val+\" SVM   -----\\n\")\n",
    "        clf = svm.SVC()\n",
    "        clf.fit(self.x_train,self.y_train)\n",
    "        predicted = clf.predict(self.x_test)\n",
    "        expected=self.y_test\n",
    "        self.Metric_Calculation(predicted,expected)\n",
    "\n",
    "    # Implementation of Ensemble method - Bagging algorithm   \n",
    "    def bag(self):\n",
    "        print(\"\\n-----   \"+self.val+\" Bagging   -----\\n\")\n",
    "        bgclassifier = BaggingClassifier()\n",
    "        bgclassifier.fit(self.x_train,self.y_train)\n",
    "        predicted = bgclassifier.predict(self.x_test)\n",
    "        expected=self.y_test\n",
    "        self.Metric_Calculation(predicted,expected)\n",
    "\n",
    "    # Implementation of Ensemble method - Boosting algorithm\n",
    "    def boost(self):\n",
    "        print(\"\\n-----   \"+self.val+\" Boosting   -----\\n\")\n",
    "        model = GradientBoostingClassifier()\n",
    "        model.fit(self.x_train,self.y_train)\n",
    "        predicted = model.predict(self.x_test)\n",
    "        expected=self.y_test\n",
    "        self.Metric_Calculation(predicted,expected)        \n",
    "    \n",
    "    # Visualization of metrics\n",
    "    def graph(self):\n",
    "        algos = [\"KNN\",\"Naive Bayes\",\"SVM\",\"Bagging\",\"Boosting\"]\n",
    "        fig, ax = plt.subplots(figsize=(15,5))\n",
    "        w = 0.21\n",
    "        bar1_x_position = np.arange(len(algos))\n",
    "        bar2_x_position = [ i+w for i in bar1_x_position ]\n",
    "        bar3_x_position = [ i+w for i in bar2_x_position ]\n",
    "        bar4_x_position = [ i+w for i in bar3_x_position ]\n",
    "        \n",
    "\n",
    "        a=plt.bar(bar1_x_position,acc,w,label=\"accuracy\")\n",
    "        b=plt.bar(bar2_x_position,pre,w,label=\"precision\")\n",
    "        c=plt.bar(bar3_x_position,re,w,label=\"recall\")\n",
    "        d=plt.bar(bar4_x_position,f,w,label=\"F1\")\n",
    "\n",
    "        plt.title(self.val+\" Metrics data\",fontweight=\"bold\",fontsize=18)\n",
    "        plt.xlabel(\"Algorithms\",fontsize=12,fontweight=\"bold\")\n",
    "        plt.ylabel(\"metric value\",fontsize=12,fontweight=\"bold\")\n",
    "        plt.xticks(bar1_x_position+w/2+w,algos,fontsize=10)\n",
    "        plt.yticks(fontsize=20)\n",
    "        plt.legend(fontsize = 14,bbox_to_anchor=(1.05, 1),loc='upper left')\n",
    "        graph=[a,b,c,d]\n",
    "        values=[acc,pre,re,f]\n",
    "        \n",
    "        flag=0\n",
    "        for g in graph:\n",
    "            i = 0\n",
    "            \n",
    "            for k in g:\n",
    "                height=k.get_height()\n",
    "                width = k.get_width()\n",
    "                x, y = k.get_xy()\n",
    "                plt.text(x+width/2,\n",
    "             y+height*1.01,\n",
    "             str(round((values[flag])[i],1)),\n",
    "             ha='center')\n",
    "                i=i+1\n",
    "            flag = flag + 1\n",
    "        plt.show()"
   ]
  },
  {
   "cell_type": "markdown",
   "id": "90d273be",
   "metadata": {},
   "source": [
    "# Feature selection using Mutual Information"
   ]
  },
  {
   "cell_type": "code",
   "execution_count": 45,
   "id": "0c1bbc6f",
   "metadata": {},
   "outputs": [],
   "source": [
    "# Feature Selection\n",
    "\n",
    "class Feature_Selecetion:\n",
    "    \n",
    "    def __init__(self):\n",
    "        feature_extract=[]\n",
    "        x = rows.iloc[: , :-1]\n",
    "        y=rows.iloc[:,-1]\n",
    "        global acc,f,pre,re\n",
    "        acc=[]\n",
    "        f=[]\n",
    "        pre=[]\n",
    "        re=[]\n",
    "        algo(\"No-Feature-Selection\",x,y)\n",
    "        \n",
    "        mut_info=MIC(x, y)\n",
    "        base=(sum(mut_info)/len(mut_info))\n",
    "        for i in range(0,len(mut_info)):\n",
    "            if mut_info[i]>= base:\n",
    "                feature_extract.append(i)\n",
    "        global extract_features\n",
    "        extract_features=(rows.iloc[:,feature_extract])\n",
    "        \n",
    "        \n",
    "        acc=[]\n",
    "        f=[]\n",
    "        pre=[]\n",
    "        re=[]\n",
    "        print(\"Feature extraction Method....\")\n",
    "        algo(\"Feature-Selection\",extract_features,y)\n"
   ]
  },
  {
   "cell_type": "code",
   "execution_count": 46,
   "id": "e534383b",
   "metadata": {},
   "outputs": [
    {
     "name": "stdout",
     "output_type": "stream",
     "text": [
      "\n",
      " Machine Learning Algorithms Implementations.....\n",
      "\n",
      "------   No-Feature-Selection KNN   -----\n",
      "\n",
      "Accuracy: 63.934426229508205\n",
      "precision: 63.779353123615415\n",
      "Recall: 63.934426229508205\n",
      "F1: 63.577733741668176\n",
      "\n",
      "------   No-Feature-Selection Naive Bayesian   -----\n",
      "\n",
      "Accuracy: 70.49180327868852\n",
      "precision: 70.49180327868852\n",
      "Recall: 70.49180327868852\n",
      "F1: 70.49180327868852\n",
      "\n",
      "-----   No-Feature-Selection SVM   -----\n",
      "\n",
      "Accuracy: 62.295081967213115\n",
      "precision: 64.4624842370744\n",
      "Recall: 62.295081967213115\n",
      "F1: 58.88903697780147\n",
      "\n",
      "-----   No-Feature-Selection Bagging   -----\n",
      "\n",
      "Accuracy: 77.04918032786885\n",
      "precision: 77.0419744190236\n",
      "Recall: 77.04918032786885\n",
      "F1: 76.96167720275724\n",
      "\n",
      "-----   No-Feature-Selection Boosting   -----\n",
      "\n",
      "Accuracy: 75.40983606557377\n",
      "precision: 75.78497205236899\n",
      "Recall: 75.40983606557377\n",
      "F1: 75.07028671547124\n"
     ]
    },
    {
     "data": {
      "image/png": "[encoded data removed]",
      "text/plain": [
       "<Figure size 1080x360 with 1 Axes>"
      ]
     },
     "metadata": {
      "needs_background": "light"
     },
     "output_type": "display_data"
    },
    {
     "name": "stdout",
     "output_type": "stream",
     "text": [
      "Feature extraction Method....\n",
      "\n",
      " Machine Learning Algorithms Implementations.....\n",
      "\n",
      "------   Feature-Selection KNN   -----\n",
      "\n",
      "Accuracy: 65.57377049180327\n",
      "precision: 65.41894353369763\n",
      "Recall: 65.57377049180327\n",
      "F1: 65.47869667377458\n",
      "\n",
      "------   Feature-Selection Naive Bayesian   -----\n",
      "\n",
      "Accuracy: 85.24590163934425\n",
      "precision: 85.21129326047358\n",
      "Recall: 85.24590163934425\n",
      "F1: 85.20515571733195\n",
      "\n",
      "-----   Feature-Selection SVM   -----\n",
      "\n",
      "Accuracy: 59.01639344262295\n",
      "precision: 57.95225769341387\n",
      "Recall: 59.01639344262295\n",
      "F1: 57.6916708064249\n",
      "\n",
      "-----   Feature-Selection Bagging   -----\n",
      "\n",
      "Accuracy: 81.9672131147541\n",
      "precision: 83.26282390269698\n",
      "Recall: 81.9672131147541\n",
      "F1: 82.06455609389172\n",
      "\n",
      "-----   Feature-Selection Boosting   -----\n",
      "\n",
      "Accuracy: 85.24590163934425\n",
      "precision: 85.80236009044658\n",
      "Recall: 85.24590163934425\n",
      "F1: 85.31797050514936\n"
     ]
    },
    {
     "data": {
      "image/png": "[encoded data removed]",
      "text/plain": [
       "<Figure size 1080x360 with 1 Axes>"
      ]
     },
     "metadata": {
      "needs_background": "light"
     },
     "output_type": "display_data"
    }
   ],
   "source": [
    "x=Feature_Selecetion()\n",
    "end=time.time()"
   ]
  },
  {
   "cell_type": "markdown",
   "id": "8ae01ce8",
   "metadata": {},
   "source": [
    "### Extracted Features ------  These gives more significance in finding whether the person has heart disease or not.."
   ]
  },
  {
   "cell_type": "code",
   "execution_count": 47,
   "id": "00bb4c20",
   "metadata": {},
   "outputs": [
    {
     "data": {
      "text/html": [
       "<div>\n",
       "<style scoped>\n",
       "    .dataframe tbody tr th:only-of-type {\n",
       "        vertical-align: middle;\n",
       "    }\n",
       "\n",
       "    .dataframe tbody tr th {\n",
       "        vertical-align: top;\n",
       "    }\n",
       "\n",
       "    .dataframe thead th {\n",
       "        text-align: right;\n",
       "    }\n",
       "</style>\n",
       "<table border=\"1\" class=\"dataframe\">\n",
       "  <thead>\n",
       "    <tr style=\"text-align: right;\">\n",
       "      <th></th>\n",
       "      <th>cp</th>\n",
       "      <th>chol</th>\n",
       "      <th>restecg</th>\n",
       "      <th>exang</th>\n",
       "      <th>oldpeak</th>\n",
       "      <th>ca</th>\n",
       "      <th>thal</th>\n",
       "    </tr>\n",
       "  </thead>\n",
       "  <tbody>\n",
       "    <tr>\n",
       "      <th>0</th>\n",
       "      <td>4</td>\n",
       "      <td>233</td>\n",
       "      <td>1</td>\n",
       "      <td>1</td>\n",
       "      <td>2.3</td>\n",
       "      <td>0</td>\n",
       "      <td>2</td>\n",
       "    </tr>\n",
       "    <tr>\n",
       "      <th>1</th>\n",
       "      <td>3</td>\n",
       "      <td>250</td>\n",
       "      <td>2</td>\n",
       "      <td>1</td>\n",
       "      <td>3.5</td>\n",
       "      <td>0</td>\n",
       "      <td>3</td>\n",
       "    </tr>\n",
       "    <tr>\n",
       "      <th>2</th>\n",
       "      <td>2</td>\n",
       "      <td>204</td>\n",
       "      <td>1</td>\n",
       "      <td>1</td>\n",
       "      <td>1.4</td>\n",
       "      <td>0</td>\n",
       "      <td>3</td>\n",
       "    </tr>\n",
       "    <tr>\n",
       "      <th>3</th>\n",
       "      <td>2</td>\n",
       "      <td>236</td>\n",
       "      <td>2</td>\n",
       "      <td>1</td>\n",
       "      <td>0.8</td>\n",
       "      <td>0</td>\n",
       "      <td>3</td>\n",
       "    </tr>\n",
       "    <tr>\n",
       "      <th>4</th>\n",
       "      <td>1</td>\n",
       "      <td>354</td>\n",
       "      <td>2</td>\n",
       "      <td>2</td>\n",
       "      <td>0.6</td>\n",
       "      <td>0</td>\n",
       "      <td>3</td>\n",
       "    </tr>\n",
       "    <tr>\n",
       "      <th>...</th>\n",
       "      <td>...</td>\n",
       "      <td>...</td>\n",
       "      <td>...</td>\n",
       "      <td>...</td>\n",
       "      <td>...</td>\n",
       "      <td>...</td>\n",
       "      <td>...</td>\n",
       "    </tr>\n",
       "    <tr>\n",
       "      <th>298</th>\n",
       "      <td>1</td>\n",
       "      <td>241</td>\n",
       "      <td>2</td>\n",
       "      <td>2</td>\n",
       "      <td>0.2</td>\n",
       "      <td>0</td>\n",
       "      <td>4</td>\n",
       "    </tr>\n",
       "    <tr>\n",
       "      <th>299</th>\n",
       "      <td>4</td>\n",
       "      <td>264</td>\n",
       "      <td>2</td>\n",
       "      <td>1</td>\n",
       "      <td>1.2</td>\n",
       "      <td>0</td>\n",
       "      <td>4</td>\n",
       "    </tr>\n",
       "    <tr>\n",
       "      <th>300</th>\n",
       "      <td>1</td>\n",
       "      <td>193</td>\n",
       "      <td>2</td>\n",
       "      <td>1</td>\n",
       "      <td>3.4</td>\n",
       "      <td>2</td>\n",
       "      <td>4</td>\n",
       "    </tr>\n",
       "    <tr>\n",
       "      <th>301</th>\n",
       "      <td>1</td>\n",
       "      <td>131</td>\n",
       "      <td>2</td>\n",
       "      <td>2</td>\n",
       "      <td>1.2</td>\n",
       "      <td>1</td>\n",
       "      <td>4</td>\n",
       "    </tr>\n",
       "    <tr>\n",
       "      <th>302</th>\n",
       "      <td>2</td>\n",
       "      <td>236</td>\n",
       "      <td>1</td>\n",
       "      <td>1</td>\n",
       "      <td>0.0</td>\n",
       "      <td>1</td>\n",
       "      <td>3</td>\n",
       "    </tr>\n",
       "  </tbody>\n",
       "</table>\n",
       "<p>303 rows × 7 columns</p>\n",
       "</div>"
      ],
      "text/plain": [
       "     cp  chol  restecg  exang  oldpeak  ca  thal\n",
       "0     4   233        1      1      2.3   0     2\n",
       "1     3   250        2      1      3.5   0     3\n",
       "2     2   204        1      1      1.4   0     3\n",
       "3     2   236        2      1      0.8   0     3\n",
       "4     1   354        2      2      0.6   0     3\n",
       "..   ..   ...      ...    ...      ...  ..   ...\n",
       "298   1   241        2      2      0.2   0     4\n",
       "299   4   264        2      1      1.2   0     4\n",
       "300   1   193        2      1      3.4   2     4\n",
       "301   1   131        2      2      1.2   1     4\n",
       "302   2   236        1      1      0.0   1     3\n",
       "\n",
       "[303 rows x 7 columns]"
      ]
     },
     "metadata": {},
     "output_type": "display_data"
    }
   ],
   "source": [
    "display(extract_features)"
   ]
  },
  {
   "cell_type": "markdown",
   "id": "249210fa",
   "metadata": {},
   "source": [
    "# Time taken to Execute the Code"
   ]
  },
  {
   "cell_type": "code",
   "execution_count": 48,
   "id": "c3a0aef6",
   "metadata": {},
   "outputs": [
    {
     "name": "stdout",
     "output_type": "stream",
     "text": [
      "Time Taken to execute the Model is -------  7.928771018981934 ms\n"
     ]
    }
   ],
   "source": [
    "print(\"Time Taken to execute the Model is ------- \", end-start,\"ms\")"
   ]
  },
  {
   "cell_type": "markdown",
   "id": "65a7d6d9",
   "metadata": {},
   "source": [
    "# Before Feature selection Bagging is best"
   ]
  },
  {
   "cell_type": "markdown",
   "id": "5e06d601",
   "metadata": {},
   "source": [
    "# After feature selection Boosting is best"
   ]
  },
  {
   "cell_type": "markdown",
   "id": "36d5f1f2",
   "metadata": {},
   "source": [
    "## In conclusion, there are 14 features and not all these are correlated to predict the patient status whether he/she has heart disease or not. So these are the 6 features that are mostly contributed in predicting the disease those are : exang,chol,ca,thal,oldpeak and cp."
   ]
  },
  {
   "cell_type": "markdown",
   "id": "5b7a0f5e",
   "metadata": {},
   "source": [
    "## By concentrating on these levels there is 85% chances of a person get rid of attacking the heart disease."
   ]
  }
 ],
 "metadata": {
  "kernelspec": {
   "display_name": "Python 3 (ipykernel)",
   "language": "python",
   "name": "python3"
  },
  "language_info": {
   "codemirror_mode": {
    "name": "ipython",
    "version": 3
   },
   "file_extension": ".py",
   "mimetype": "text/x-python",
   "name": "python",
   "nbconvert_exporter": "python",
   "pygments_lexer": "ipython3",
   "version": "3.9.7"
  }
 },
 "nbformat": 4,
 "nbformat_minor": 5
}
